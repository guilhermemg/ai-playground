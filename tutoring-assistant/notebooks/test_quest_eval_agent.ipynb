{
 "cells": [
  {
   "cell_type": "code",
   "execution_count": 1,
   "metadata": {},
   "outputs": [],
   "source": [
    "%load_ext autoreload\n",
    "%autoreload 2"
   ]
  },
  {
   "cell_type": "code",
   "execution_count": 2,
   "metadata": {},
   "outputs": [],
   "source": [
    "import dotenv\n",
    "dotenv.load_dotenv()\n",
    "\n",
    "\n",
    "import sys\n",
    "if '../src' not in sys.path:\n",
    "    sys.path.append('../src')\n",
    "\n",
    "\n",
    "from tutoring_system import TutoringSystem   "
   ]
  },
  {
   "cell_type": "code",
   "execution_count": 3,
   "metadata": {},
   "outputs": [
    {
     "name": "stdout",
     "output_type": "stream",
     "text": [
      "\n",
      "\n",
      "\u001b[1m> Entering new AgentExecutor chain...\u001b[0m\n",
      "\u001b[32;1m\u001b[1;3mThought: I need to evaluate each question and answer provided by the student\n",
      "Action: evaluate_questionnaire\n",
      "Action Input: \n",
      "    Questionnaire:\n",
      "        Q1: \"What is the capital of France?\"\n",
      "        Q2: \"Who wrote Hamlet?\"\n",
      "        Q3: \"What is the formula for the area of a circle?\"\n",
      "        Q4: \"What is the boiling point of water in Fahrenheit?\"\n",
      "        Q5: \"Who discovered penicillin?\"\n",
      "        Q6: \"What is the square root of 144?\"\n",
      "        Q7: \"What is the chemical symbol for gold?\"\n",
      "        Q8: \"Who painted the Mona Lisa?\"\n",
      "        Q9: \"What is the largest planet in our solar system?\"\n",
      "        Q10: \"Who is the author of 'To Kill a Mockingbird'?\"\n",
      "\n",
      "    Student Answers:\n",
      "        Q1: \"Paris\"\n",
      "        Q2: \"Shakespeare\"\n",
      "        Q3: \"πr^2\"\n",
      "        Q4: \"212 F\"\n",
      "        Q5: \"Fleming\"\n",
      "        Q6: \"13\"\n",
      "        Q7: \"Ag\"\n",
      "        Q8: \"Michelangelo\"\n",
      "        Q9: \"Pluto\"\n",
      "        Q10: \"Harper Lee\"\u001b[0m\n",
      "Observation: \u001b[36;1m\u001b[1;3m{\n",
      "    \"feedback\": {\n",
      "        \"Q1\": \"Correct\",\n",
      "        \"Q2\": \"Correct\",\n",
      "        \"Q3\": \"Correct\",\n",
      "        \"Q4\": \"Incorrect\",\n",
      "        \"Q5\": \"Correct\",\n",
      "        \"Q6\": \"Correct\",\n",
      "        \"Q7\": \"Incorrect\",\n",
      "        \"Q8\": \"Incorrect\",\n",
      "        \"Q9\": \"Incorrect\",\n",
      "        \"Q10\": \"Correct\"\n",
      "    },\n",
      "    \"score\": 70\n",
      "}\u001b[0m\n",
      "Thought:\u001b[32;1m\u001b[1;3mI have evaluated each question and answer provided by the student. Now I need to provide detailed feedback and calculate the final score.\n",
      "\n",
      "Final Answer: \n",
      "Feedback:\n",
      "Q1: Correct\n",
      "Q2: Correct\n",
      "Q3: Correct\n",
      "Q4: Incorrect\n",
      "Q5: Correct\n",
      "Q6: Correct\n",
      "Q7: Incorrect\n",
      "Q8: Incorrect\n",
      "Q9: Incorrect\n",
      "Q10: Correct\n",
      "\n",
      "Score: 70%\u001b[0m\n",
      "\n",
      "\u001b[1m> Finished chain.\u001b[0m\n"
     ]
    },
    {
     "data": {
      "text/plain": [
       "'Feedback:\\nQ1: Correct\\nQ2: Correct\\nQ3: Correct\\nQ4: Incorrect\\nQ5: Correct\\nQ6: Correct\\nQ7: Incorrect\\nQ8: Incorrect\\nQ9: Incorrect\\nQ10: Correct\\n\\nScore: 70%'"
      ]
     },
     "execution_count": 3,
     "metadata": {},
     "output_type": "execute_result"
    }
   ],
   "source": [
    "questionnaire = \"\"\"#####\n",
    "                    Questionnaire:\n",
    "                        Q1: \"What is the capital of France?\"\n",
    "                        Q2: \"Who wrote Hamlet?\"\n",
    "                        Q3: \"What is the formula for the area of a circle?\"\n",
    "                        Q4: \"What is the boiling point of water in Fahrenheit?\"\n",
    "                        Q5: \"Who discovered penicillin?\"\n",
    "                        Q6: \"What is the square root of 144?\"\n",
    "                        Q7: \"What is the chemical symbol for gold?\"\n",
    "                        Q8: \"Who painted the Mona Lisa?\"\n",
    "                        Q9: \"What is the largest planet in our solar system?\"\n",
    "                        Q10: \"Who is the author of 'To Kill a Mockingbird'?\"\n",
    "\n",
    "                    Student Answers:\n",
    "                        Q1: \"Paris\"\n",
    "                        Q2: \"Shakespeare\"\n",
    "                        Q3: \"πr^2\"\n",
    "                        Q4: \"212 F\"\n",
    "                        Q5: \"Fleming\"\n",
    "                        Q6: \"13\"\n",
    "                        Q7: \"Ag\"\n",
    "                        Q8: \"Michelangelo\"\n",
    "                        Q9: \"Pluto\"\n",
    "                        Q10: \"Harper Lee\"\n",
    "                    ######\n",
    "                    \"\"\"\n",
    "\n",
    "\n",
    "tutor_system = TutoringSystem()\n",
    "\n",
    "tutor_system.evaluate_questionnaire(questionnaire)"
   ]
  }
 ],
 "metadata": {
  "kernelspec": {
   "display_name": "tutoring-assistant",
   "language": "python",
   "name": "python3"
  },
  "language_info": {
   "codemirror_mode": {
    "name": "ipython",
    "version": 3
   },
   "file_extension": ".py",
   "mimetype": "text/x-python",
   "name": "python",
   "nbconvert_exporter": "python",
   "pygments_lexer": "ipython3",
   "version": "3.10.16"
  }
 },
 "nbformat": 4,
 "nbformat_minor": 2
}
