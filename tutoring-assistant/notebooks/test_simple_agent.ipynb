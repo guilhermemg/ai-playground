{
 "cells": [
  {
   "cell_type": "code",
   "execution_count": 1,
   "metadata": {},
   "outputs": [],
   "source": [
    "from langchain.agents import ZeroShotAgent, AgentExecutor\n",
    "from langchain.chains import LLMChain\n",
    "from langchain.agents import load_tools, Tool\n",
    "from langchain.chat_models import ChatOpenAI\n",
    "\n",
    "from typing import List\n",
    "\n",
    "import os\n",
    "from dotenv import load_dotenv\n",
    "load_dotenv()"
   ]
  },
  {
   "cell_type": "code",
   "execution_count": 2,
   "metadata": {},
   "outputs": [],
   "source": [
    "llm = ChatOpenAI(model_name=\"gpt-3.5-turbo\",\n",
    "                 temperature=0.7, \n",
    "                 openai_api_key=os.getenv(\"OPENAI_API_KEY\"))"
   ]
  },
  {
   "cell_type": "code",
   "execution_count": 3,
   "metadata": {},
   "outputs": [],
   "source": [
    "def _create_agent(tools: List[Tool], prefix: str, suffix: str):\n",
    "    \"\"\"Helper function to create an agent with specified tools and prompt\"\"\"\n",
    "    prompt = ZeroShotAgent.create_prompt(\n",
    "        tools,\n",
    "        prefix=prefix,\n",
    "        suffix=suffix,\n",
    "        input_variables=[\"input\", \"agent_scratchpad\"]\n",
    "    )\n",
    "    \n",
    "    llm_chain = LLMChain(llm=llm, prompt=prompt)\n",
    "    \n",
    "    agent = ZeroShotAgent(\n",
    "        llm_chain=llm_chain,\n",
    "        tools=tools,\n",
    "        verbose=True\n",
    "    )\n",
    "    \n",
    "    return AgentExecutor.from_agent_and_tools(\n",
    "        agent=agent,\n",
    "        tools=tools,\n",
    "        verbose=True\n",
    "    )"
   ]
  },
  {
   "cell_type": "code",
   "execution_count": 8,
   "metadata": {},
   "outputs": [
    {
     "name": "stdout",
     "output_type": "stream",
     "text": [
      "\n",
      "\n",
      "\u001b[1m> Entering new AgentExecutor chain...\u001b[0m\n",
      "\u001b[32;1m\u001b[1;3mQuestion: What is the average of the student grades?\n",
      "Thought: I need to add up all the grades and divide by the total number of grades.\n",
      "Action: Calculator\n",
      "Action Input: (9 + 2 + 5 + 8 + 9 + 10 + 3 + 6) / 8\u001b[0m\n",
      "Observation: \u001b[36;1m\u001b[1;3mAnswer: 6.5\u001b[0m\n",
      "Thought:\u001b[32;1m\u001b[1;3mI now know the final answer\n",
      "Final Answer: 6.5\u001b[0m\n",
      "\n",
      "\u001b[1m> Finished chain.\u001b[0m\n"
     ]
    },
    {
     "data": {
      "text/plain": [
       "'6.5'"
      ]
     },
     "execution_count": 8,
     "metadata": {},
     "output_type": "execute_result"
    }
   ],
   "source": [
    "def create_math_agent():\n",
    "    tools = load_tools(['llm-math'], llm=llm)\n",
    "\n",
    "    prefix = \"\"\"You are responsible for calculating the exams scores for a class of students.\n",
    "\n",
    "    You will receive a list of student grades between 0 and 10 delimitted by ## and separated by \";\". \n",
    "    \n",
    "    You have access to the following tools:\"\"\"\n",
    "    \n",
    "    suffix = \"\"\"Return the grades average: {input}\n",
    "    {agent_scratchpad}\"\"\"\n",
    "    \n",
    "    return _create_agent(tools, prefix, suffix)\n",
    "\n",
    "\n",
    "agent_exc = create_math_agent()\n",
    "\n",
    "agent_exc.run(\"\"\"##9;2;5;8;9;10;3;6##\"\"\")"
   ]
  },
  {
   "cell_type": "code",
   "execution_count": 11,
   "metadata": {},
   "outputs": [
    {
     "name": "stdout",
     "output_type": "stream",
     "text": [
      "\n",
      "\n",
      "\u001b[1m> Entering new AgentExecutor chain...\u001b[0m\n",
      "\u001b[32;1m\u001b[1;3mQuestion: What were the news on 05/01/2022?\n",
      "Thought: I should use Wikipedia to search for news on that specific date.\n",
      "Action: Wikipedia\n",
      "Action Input: May 1, 2022\u001b[0m\n",
      "Observation: \u001b[36;1m\u001b[1;3mPage: May 1\n",
      "Summary: May 1 is the 121st day of the year (122nd in leap years) in the Gregorian calendar;  244 days remain until the end of the year.\n",
      "\n",
      "\n",
      "\n",
      "Page: 2022\n",
      "Summary: 2022 (MMXXII) was a common year starting on Saturday of the Gregorian calendar, the 2022nd year of the Common Era (CE) and Anno Domini (AD) designations, the 22nd  year of the 3rd millennium and the 21st century, and the  3rd   year of the 2020s decade.  \n",
      "The year began with another wave in the COVID-19 pandemic, with Omicron spreading rapidly and becoming the dominant variant of the SARS-CoV-2 virus worldwide. Tracking a decrease in cases and deaths, 2022 saw the removal of most COVID-19 restrictions and the reopening of international borders in the vast majority of countries, while the global rollout of COVID-19 vaccines continued. The global economic recovery from the pandemic continued, though many countries experienced an ongoing inflation surge; in response, many central banks raised their interest rates to landmark levels. The world population reached eight billion people in 2022. The year also witnessed numerous natural disasters, including two devastating Atlantic hurricanes (Fiona and Ian), and the most powerful volcano eruption of the century so far. The later part of the year also saw the first public release of ChatGPT by OpenAI starting an arms race in artificial intelligence which increased in intensity into 2023, as well as the collapse of the cryptocurrency exchange FTX.\n",
      "2022 was also dominated by wars and armed conflicts. While escalations into the internal conflict in Myanmar and the Tigray War dominated the heightening of tensions within their regions and each caused over 10,000 deaths, 2022 was most notable for the Russian invasion of Ukraine, the largest armed conflict in Europe since World War II. The invasion caused the displacement of 15.7 million Ukrainians (8 million internally displaced persons and 7.7 million refugees), and led to international condemnations and sanctions and nuclear threats, the withdrawal of hundreds of companies from Russia, and the exclusion of Russia from major sporting events.\n",
      "\n",
      "Page: May 2022 Canadian derecho\n",
      "Summary: The May 2022 Canadian derecho was a high-impact derecho event that affected the Quebec City-Windsor Corridor, Canada's most densely populated region, on May 21, 2022. Described by meteorologists as a historic derecho and one of the most impactful thunderstorms in Canadian history, winds up to 190 km/h (120 mph) as well as around four tornadoes caused widespread and extensive damage along a path that extended for 1,000 kilometres (620 mi).\n",
      "Three cities across southern Ontario declared a state of emergency. At least twelve people were killed, mostly by falling trees. Power outages affected an estimated 1.1 million customers, and thousands were still without power a week after the storm. Hydro Ottawa described the damage dealt to its power distribution system as more severe than the 1998 ice storm. The storm was the sixth-costliest event in Canadian history.\n",
      "According to an estimate published on June 15 by the firm Catastrophe Indices and Quantification (CatIQ), the insured damage would amount to C$875 million, that is, C$720 million in Ontario and C$155 million in Quebec. This ranks the derecho as the sixth-costliest natural disaster in Canada in terms of insurance claims.\u001b[0m\n",
      "Thought:\u001b[32;1m\u001b[1;3mI now know the final answer\n",
      "Final Answer:\n",
      "- 2022 started with the Omicron variant becoming dominant in the COVID-19 pandemic\n",
      "- The global economic recovery continued, with many countries experiencing inflation surges\n",
      "- Natural disasters, including hurricanes and a powerful volcano eruption, occurred\n",
      "- Wars and armed conflicts, such as the Russian invasion of Ukraine, dominated the year\n",
      "- The May 2022 Canadian derecho caused widespread damage and was the sixth-costliest event in Canadian history\u001b[0m\n",
      "\n",
      "\u001b[1m> Finished chain.\u001b[0m\n"
     ]
    },
    {
     "data": {
      "text/plain": [
       "'- 2022 started with the Omicron variant becoming dominant in the COVID-19 pandemic\\n- The global economic recovery continued, with many countries experiencing inflation surges\\n- Natural disasters, including hurricanes and a powerful volcano eruption, occurred\\n- Wars and armed conflicts, such as the Russian invasion of Ukraine, dominated the year\\n- The May 2022 Canadian derecho caused widespread damage and was the sixth-costliest event in Canadian history'"
      ]
     },
     "execution_count": 11,
     "metadata": {},
     "output_type": "execute_result"
    }
   ],
   "source": [
    "# from datetime import datetime\n",
    "\n",
    "\n",
    "# def validate_date(date_string: str, date_format: str = \"%Y-%m-%d\"):\n",
    "#     try:\n",
    "#         datetime.strptime(date_string, date_format)\n",
    "#         return True\n",
    "#     except ValueError:\n",
    "#         return False\n",
    "\n",
    "\n",
    "def create_wikipedia_news_agent():\n",
    "    tools = load_tools(['wikipedia'], llm=llm)\n",
    "\n",
    "    prefix = \"\"\"You are responsible for summarizing the news in the wikipedia relative to a specific date.\n",
    "\n",
    "    You will receive a date. \n",
    "\n",
    "    The date will be provided in the format ##YYYY-MM-DD##.\n",
    "\n",
    "    If the date is not provided, the agent will use the current date.\n",
    "\n",
    "    Validate the date format. If the date is invalid, the agent will return an error message: \"Invalid date format\".\n",
    "\n",
    "    Return only a list of the news found in bullet points, nothing else.\n",
    "\n",
    "    You have access to the following tools:\"\"\"\n",
    "    \n",
    "    suffix = \"\"\"Return in bullet points the news found: {input}\n",
    "    {agent_scratchpad}\"\"\"\n",
    "    \n",
    "    return _create_agent(tools, prefix, suffix)\n",
    "\n",
    "\n",
    "agent_exc = create_wikipedia_news_agent()\n",
    "\n",
    "agent_exc.run(\"##05/01/2022##\")"
   ]
  }
 ],
 "metadata": {
  "kernelspec": {
   "display_name": "tutoring-assistant",
   "language": "python",
   "name": "python3"
  },
  "language_info": {
   "codemirror_mode": {
    "name": "ipython",
    "version": 3
   },
   "file_extension": ".py",
   "mimetype": "text/x-python",
   "name": "python",
   "nbconvert_exporter": "python",
   "pygments_lexer": "ipython3",
   "version": "3.10.16"
  }
 },
 "nbformat": 4,
 "nbformat_minor": 2
}
